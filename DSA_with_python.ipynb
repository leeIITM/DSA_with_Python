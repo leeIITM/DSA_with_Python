{
  "nbformat": 4,
  "nbformat_minor": 0,
  "metadata": {
    "colab": {
      "provenance": [],
      "authorship_tag": "ABX9TyMLjI7lWCY6tEt9pp/ypbMr",
      "include_colab_link": true
    },
    "kernelspec": {
      "name": "python3",
      "display_name": "Python 3"
    },
    "language_info": {
      "name": "python"
    }
  },
  "cells": [
    {
      "cell_type": "markdown",
      "metadata": {
        "id": "view-in-github",
        "colab_type": "text"
      },
      "source": [
        "<a href=\"https://colab.research.google.com/github/leeIITM/DSA_with_Python/blob/main/DSA_with_python.ipynb\" target=\"_parent\"><img src=\"https://colab.research.google.com/assets/colab-badge.svg\" alt=\"Open In Colab\"/></a>"
      ]
    },
    {
      "cell_type": "markdown",
      "source": [
        "Finding the GCD"
      ],
      "metadata": {
        "id": "l5N31vm4dLdf"
      }
    },
    {
      "cell_type": "code",
      "execution_count": 9,
      "metadata": {
        "id": "H16dBrjRY6a9",
        "colab": {
          "base_uri": "https://localhost:8080/"
        },
        "outputId": "3e24a37b-aee1-451d-98eb-7f795d4a4d0a"
      },
      "outputs": [
        {
          "output_type": "stream",
          "name": "stdout",
          "text": [
            "enter x :6\n",
            "enter y :24\n",
            "[6.0, 3.0, 2.0, 1.0]\n",
            "[24.0, 12.0, 8.0, 6.0, 4.0, 3.0, 2.0, 1.0]\n",
            "[6.0, 3.0, 2.0, 1.0]\n",
            "6.0\n"
          ]
        }
      ],
      "source": [
        "x=int(input(\"enter x :\"))\n",
        "y=int(input(\"enter y :\"))\n",
        "l1=[]\n",
        "l2=[]\n",
        "for i in range(1,x+1):\n",
        "  a=x/i\n",
        "  if a==(x//i):\n",
        "    l1.append(a)\n",
        "  else:\n",
        "    pass\n",
        "for j in range(1,y+1):\n",
        "  b=y/j\n",
        "  if b==(y//j):\n",
        "    l2.append(b)\n",
        "  else:\n",
        "    pass\n",
        "print(l1)\n",
        "print(l2)\n",
        "c=[x for x in l1 if x in l2]\n",
        "print(c)\n",
        "print(max(c))"
      ]
    },
    {
      "cell_type": "markdown",
      "source": [],
      "metadata": {
        "id": "wVnJmDvJdJaP"
      }
    },
    {
      "cell_type": "markdown",
      "source": [],
      "metadata": {
        "id": "i74q2Z6JdGLw"
      }
    },
    {
      "cell_type": "code",
      "source": [
        "a=22/7\n",
        "print(a)\n",
        "b=22//7\n",
        "print(b)"
      ],
      "metadata": {
        "colab": {
          "base_uri": "https://localhost:8080/"
        },
        "id": "psFpEqUBcVBR",
        "outputId": "7b6c02d4-32ca-4ea9-9716-d9faa1ca00ee"
      },
      "execution_count": 3,
      "outputs": [
        {
          "output_type": "stream",
          "name": "stdout",
          "text": [
            "3.142857142857143\n",
            "3\n"
          ]
        }
      ]
    }
  ]
}