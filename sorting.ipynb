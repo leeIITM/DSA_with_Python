{
  "nbformat": 4,
  "nbformat_minor": 0,
  "metadata": {
    "colab": {
      "provenance": [],
      "authorship_tag": "ABX9TyM8BxZAkct/TwQyLPQtffsY",
      "include_colab_link": true
    },
    "kernelspec": {
      "name": "python3",
      "display_name": "Python 3"
    },
    "language_info": {
      "name": "python"
    }
  },
  "cells": [
    {
      "cell_type": "markdown",
      "metadata": {
        "id": "view-in-github",
        "colab_type": "text"
      },
      "source": [
        "<a href=\"https://colab.research.google.com/github/leeIITM/DSA_with_Python/blob/main/sorting.ipynb\" target=\"_parent\"><img src=\"https://colab.research.google.com/assets/colab-badge.svg\" alt=\"Open In Colab\"/></a>"
      ]
    },
    {
      "cell_type": "markdown",
      "source": [
        "##SORTING METHODS"
      ],
      "metadata": {
        "id": "9MFKqmNxuLMI"
      }
    },
    {
      "cell_type": "markdown",
      "source": [
        "Naive approach"
      ],
      "metadata": {
        "id": "nSUNj8c5uP64"
      }
    },
    {
      "cell_type": "code",
      "source": [
        "l=[5,6,7,8,9]\n",
        "pp=[9,5,6,2,4,1]\n",
        "\n",
        "\n",
        "#to find p in l\n",
        "def sort(l,p):\n",
        "  for i in l:\n",
        "    if p==i:\n",
        "      return(\"1\")\n",
        "      break\n",
        "    else:\n",
        "      return(\"0\")\n",
        "print(sort(pp , 5))\n",
        "print(sort(l,5))\n",
        "\n"
      ],
      "metadata": {
        "colab": {
          "base_uri": "https://localhost:8080/"
        },
        "id": "DgIr2TQWud0i",
        "outputId": "47f22d4f-a1e6-4a5c-bf41-5a4881d00bda"
      },
      "execution_count": null,
      "outputs": [
        {
          "output_type": "stream",
          "name": "stdout",
          "text": [
            "0\n",
            "1\n"
          ]
        }
      ]
    },
    {
      "cell_type": "markdown",
      "source": [
        "An interesting thing happens in above code!. We would feel that both list has 5 as a element but the output gives different values, why?. This is because the return function returns a value to the function sort() and thus the next iteration is not at all done"
      ],
      "metadata": {
        "id": "bvBpl-B7y2QQ"
      }
    },
    {
      "cell_type": "markdown",
      "source": [
        "##Searching a sorted list!"
      ],
      "metadata": {
        "id": "jSdFVhuQzotr"
      }
    },
    {
      "cell_type": "markdown",
      "source": [
        "Binary search is used if list is sorted"
      ],
      "metadata": {
        "id": "-VZ7H95rzvyq"
      }
    },
    {
      "cell_type": "code",
      "source": [
        "def binary_search(list,w):\n",
        "  try:\n",
        "    l=len(list)\n",
        "    m=l//2\n",
        "    if list[m] == w:\n",
        "      return(True)\n",
        "    if w < list[m]:\n",
        "      return(binary_search(list[ :m],w))\n",
        "    else:\n",
        "      return(binary_search(list[m+1 : ],w))\n",
        "  except:\n",
        "    return(\"element not found\")\n",
        "l= [1,2,3,4,5,6,7,8,9]\n",
        "p=45\n",
        "binary_search(l,p)"
      ],
      "metadata": {
        "colab": {
          "base_uri": "https://localhost:8080/",
          "height": 36
        },
        "id": "032VevVVzyxr",
        "outputId": "e3d33855-da9b-433a-f997-45b64c963757"
      },
      "execution_count": null,
      "outputs": [
        {
          "output_type": "execute_result",
          "data": {
            "text/plain": [
              "'element not found'"
            ],
            "application/vnd.google.colaboratory.intrinsic+json": {
              "type": "string"
            }
          },
          "metadata": {},
          "execution_count": 32
        }
      ]
    }
  ]
}